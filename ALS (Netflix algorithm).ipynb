{
 "cells": [
  {
   "cell_type": "code",
   "execution_count": 11,
   "id": "1ba3faf2",
   "metadata": {},
   "outputs": [],
   "source": [
    "import numpy as np\n",
    "import pandas as pd\n",
    "from numpy import linalg as LA"
   ]
  },
  {
   "cell_type": "markdown",
   "id": "0b68cc13",
   "metadata": {},
   "source": [
    "#### System user i"
   ]
  },
  {
   "cell_type": "code",
   "execution_count": 32,
   "id": "20555f45",
   "metadata": {},
   "outputs": [],
   "source": [
    "def system_user_i(Q, M, Lambda, i):\n",
    "    \n",
    "#     Find the number of features from M\n",
    "    f = np.size(M,0);\n",
    "    \n",
    "#     Determine the number of elements inthe index set (the number of movies that have been ranked by user i)\n",
    "    mJi = np.count_nonzero(Q[:,i]);\n",
    "    \n",
    "#     Determine the index set with all users that have ranked movie j\n",
    "    Ji = np.argwhere(Q[:,i]).reshape(mJi);\n",
    "        \n",
    "#     The submatrix of U containing all the columns of U corresponding to users who have ranked movie j\n",
    "    M_Ji = M[:,Ji];\n",
    "\n",
    "#     The ratings given to movie j\n",
    "    q_Ji = Q[Ji,i];\n",
    "\n",
    "#     The matrix in the system for computing the optimal m_j\n",
    "    Ai = np.matmul(M_Ji, M_Ji.T) + Lambda*mJi*np.eye(f);\n",
    "\n",
    "#     The RHS in the system for computing the optimal m_j\n",
    "    bi = np.matmul(M_Ji, q_Ji);\n",
    "    \n",
    "    return [Ai, bi]"
   ]
  },
  {
   "cell_type": "markdown",
   "id": "4d4df0c4",
   "metadata": {},
   "source": [
    "#### System movie j"
   ]
  },
  {
   "cell_type": "code",
   "execution_count": 33,
   "id": "4845134a",
   "metadata": {},
   "outputs": [],
   "source": [
    "def system_movie_j(R, U, Lambda, j):\n",
    "    \n",
    "#     Find the number of features from U\n",
    "    f = np.size(U,0);\n",
    "    \n",
    "#     Determine the number of elements inthe index set (the number of users who have ranke movie j)\n",
    "    nIj = np.count_nonzero(R[:,j]);    \n",
    "    \n",
    "#     Determine the index set with all users that have ranked movie j\n",
    "    Ij = np.argwhere(R[:,j]).reshape(nIj);\n",
    "    \n",
    "#     The submatrix of U containing all the columns of U corresponding to users who have ranked movie j\n",
    "    U_Ij = U[:,Ij];\n",
    "\n",
    "#     The ratings given to movie j\n",
    "    r_Ij = R[Ij,j];\n",
    "\n",
    "#     The matrix in the system for computing the optimal m_j\n",
    "    Aj = np.matmul(U_Ij, U_Ij.T) + Lambda*nIj*np.eye(f);\n",
    "\n",
    "#     The RHS in the system for computing the optimal m_j\n",
    "    bj = np.matmul(U_Ij, r_Ij);\n",
    "    \n",
    "    return [Aj, bj]"
   ]
  },
  {
   "cell_type": "markdown",
   "id": "264282d5",
   "metadata": {},
   "source": [
    "#### One iteration of ALS"
   ]
  },
  {
   "cell_type": "code",
   "execution_count": 34,
   "id": "e11389f5",
   "metadata": {},
   "outputs": [],
   "source": [
    "def myALS(R, U, M, Lambda):\n",
    "\n",
    "#     Defining number of movies (m) and users (n):\n",
    "    n = np.size(R, 1);\n",
    "    m = np.size(R, 0);\n",
    "    \n",
    "#     Going through every column solviung for matrix M\n",
    "    for j in range(n):\n",
    "        [Aj, bj] = system_movie_j(R,U,Lambda,j);\n",
    "        M[:, j] = np.linalg.solve(Aj, bj)\n",
    "    \n",
    "#     Going through every column solving for matrix U, part that doesn't work\n",
    "    for i in range(m):\n",
    "        [Aj, bj] = system_user_i(R.T,M,Lambda,i);\n",
    "        U[:, i] = np.linalg.solve(Aj, bj)\n",
    "    return [U, M]"
   ]
  },
  {
   "cell_type": "markdown",
   "id": "c86e567e",
   "metadata": {},
   "source": [
    "#### gValue (The function g we are optimising)"
   ]
  },
  {
   "cell_type": "code",
   "execution_count": 36,
   "id": "c2cba19b",
   "metadata": {},
   "outputs": [],
   "source": [
    "def gValue(R,U,M,Lambda):\n",
    "\n",
    "    n = np.size(R, 1);\n",
    "    m = np.size(R, 0);\n",
    "    Q = R.T;\n",
    "\n",
    "    a=0;\n",
    "    b=0;\n",
    "    for j in range(n):\n",
    "        nIj = np.count_nonzero(R[:,j]);\n",
    "        Ij = np.argwhere(R[:,j]).reshape(nIj);\n",
    "        \n",
    "        a = a + LA.norm(R[Ij,j]-np.matmul(U[:,Ij],M[:,j]))**2;\n",
    "\n",
    "        b = b + nIj*LA.norm(M[:,j])**2;\n",
    "\n",
    "    c=0;\n",
    "    for i in range(m):\n",
    "        mJi = np.count_nonzero(Q[:,i]);\n",
    "        Ji = np.argwhere(Q[:,i]).reshape(mJi);\n",
    "    \n",
    "        c = c + mJi*LA.norm(U[:,i])**2;\n",
    "        \n",
    "    g = a + Lambda*(c+b);\n",
    "    return g"
   ]
  },
  {
   "cell_type": "markdown",
   "id": "ad6ab287",
   "metadata": {},
   "source": [
    "#### Test"
   ]
  },
  {
   "cell_type": "code",
   "execution_count": 37,
   "id": "b29b6141",
   "metadata": {},
   "outputs": [],
   "source": [
    "# Initialising\n",
    "Lambda=0.01;\n",
    "nits=500;\n",
    "f=2;\n",
    "\n",
    "R = np.array([[5, 0, 0], [0, 4, 0], [4, 5, 1], [0, 0, 2], [0, 2, 0]]);\n",
    "U=np.array([[1., 2., 3., 4., 5.],[ 1., 2., 3., 4., 5.]]);\n",
    "M=np.ones(f*3).reshape((f,3))\n",
    "\n",
    "\n",
    "for i in range(nits):\n",
    "    [U, M] = myALS(R,U,M,Lambda)\n",
    "    R_pred = np.matmul(U.T, M)"
   ]
  },
  {
   "cell_type": "code",
   "execution_count": 38,
   "id": "e779634a",
   "metadata": {
    "scrolled": true
   },
   "outputs": [
    {
     "data": {
      "text/plain": [
       "array([[4.98605527, 6.20091582, 1.24553568],\n",
       "       [3.21052881, 3.9927801 , 0.80276011],\n",
       "       [3.99922464, 4.97364315, 0.9999986 ],\n",
       "       [1.2631687 , 1.57242606, 1.98585785],\n",
       "       [1.60526441, 1.99639005, 0.40138006]])"
      ]
     },
     "execution_count": 38,
     "metadata": {},
     "output_type": "execute_result"
    }
   ],
   "source": [
    "R_pred"
   ]
  },
  {
   "cell_type": "markdown",
   "id": "62f72da4",
   "metadata": {},
   "source": [
    "### For 0 included and unknown values as  NaN values  Does not work as well due to inherently ALS is defined for sparse matrixes"
   ]
  },
  {
   "cell_type": "markdown",
   "id": "43f073cd",
   "metadata": {},
   "source": [
    "##### System Movies _ j"
   ]
  },
  {
   "cell_type": "code",
   "execution_count": 19,
   "id": "eec5ef1d",
   "metadata": {},
   "outputs": [],
   "source": [
    "def system_movie_j(R, U, Lambda, j):\n",
    "    \n",
    "#     Find the number of features from U\n",
    "    f = np.size(U,0);\n",
    "    \n",
    "#     Determine the number of elements inthe index set (the number of users who have ranke movie j)\n",
    "    nIj = np.count_nonzero(np.isnan(R[:,j]) == False);    \n",
    "    \n",
    "#     Determine the index set with all users that have ranked movie j\n",
    "    Ij = np.argwhere(np.isnan(R[:,j]) == False).reshape(nIj);\n",
    "    \n",
    "#     The submatrix of U containing all the columns of U corresponding to users who have ranked movie j\n",
    "    U_Ij = U[:,Ij];\n",
    "\n",
    "#     The ratings given to movie j\n",
    "    r_Ij = R[Ij,j];\n",
    "\n",
    "#     The matrix in the system for computing the optimal m_j\n",
    "    Aj = np.matmul(U_Ij, U_Ij.T) + Lambda*nIj*np.eye(f);\n",
    "\n",
    "#     The RHS in the system for computing the optimal m_j\n",
    "    bj = np.matmul(U_Ij, r_Ij);\n",
    "    \n",
    "    return [Aj, bj]"
   ]
  },
  {
   "cell_type": "markdown",
   "id": "6f11df45",
   "metadata": {},
   "source": [
    "##### System User_i "
   ]
  },
  {
   "cell_type": "code",
   "execution_count": 20,
   "id": "730a7e03",
   "metadata": {},
   "outputs": [],
   "source": [
    "def system_user_j(Q, M, Lambda, i):\n",
    "    \n",
    "#     Find the number of features from U\n",
    "    f = np.size(M,0);\n",
    "    \n",
    "#     Determine the number of elements inthe index set (the number of users who have ranke movie j)\n",
    "    mJi = np.count_nonzero(np.isnan(Q[:,i]) == False);\n",
    "    \n",
    "    \n",
    "#     Determine the index set with all users that have ranked movie j\n",
    "    Ji = np.argwhere(np.isnan(Q[:,i]) == False).reshape(mJi);\n",
    "        \n",
    "#     The submatrix of U containing all the columns of U corresponding to users who have ranked movie j\n",
    "    M_Ji = M[:,Ji];\n",
    "\n",
    "#     The ratings given to movie j\n",
    "    q_Ji = Q[Ji,i];\n",
    "\n",
    "#     The matrix in the system for computing the optimal m_j\n",
    "    Ai = np.matmul(M_Ji, M_Ji.T) + Lambda*mJi*np.eye(f);\n",
    "\n",
    "#     The RHS in the system for computing the optimal m_j\n",
    "    bi = np.matmul(M_Ji, q_Ji);\n",
    "    \n",
    "    return [Ai, bi]"
   ]
  },
  {
   "cell_type": "markdown",
   "id": "a9c30e8c",
   "metadata": {},
   "source": [
    "##### One iteration of the ALS algorithm"
   ]
  },
  {
   "cell_type": "code",
   "execution_count": 21,
   "id": "e32bddf8",
   "metadata": {},
   "outputs": [],
   "source": [
    "def myALS(R, U, M, Lambda):\n",
    "\n",
    "#     Defining number of movies (m) and users (n):\n",
    "    n = np.size(R, 1);\n",
    "    m = np.size(R, 0);\n",
    "    \n",
    "#     Going through every column solviung for matrix M\n",
    "    for j in range(n):\n",
    "        [Aj, bj] = system_movie_j(R,U,Lambda,j);\n",
    "        M[:, j] = np.linalg.solve(Aj, bj)\n",
    "    \n",
    "#     Going through every column solving for matrix U\n",
    "    for i in range(m):\n",
    "        [Ai, bi] = system_movie_j(R.T,U,Lambda,j);\n",
    "        U[:, j] = np.linalg.solve(Ai, bi)\n",
    "    return [U, M]"
   ]
  },
  {
   "cell_type": "markdown",
   "id": "8af92608",
   "metadata": {},
   "source": [
    "##### gValue (Function we optimise, not that important to the results)"
   ]
  },
  {
   "cell_type": "code",
   "execution_count": 49,
   "id": "25344bd1",
   "metadata": {},
   "outputs": [],
   "source": [
    "def gValue(R,U,M,Lambda):\n",
    "\n",
    "    n = np.size(R, 1);\n",
    "    m = np.size(R, 0);\n",
    "    Q = R.T;\n",
    "\n",
    "    a=0;\n",
    "    b=0;\n",
    "    for j in range(n):\n",
    "        nIj = np.count_nonzero(np.isnan(R[:,j]) == False);\n",
    "        Ij = np.argwhere(np.isnan(R[:,j]) == False).reshape(nIj);\n",
    "        \n",
    "        a = a + LA.norm(R[Ij,j]-np.matmul(U[:,Ij],M[:,j]))**2;\n",
    "\n",
    "        b = b + nIj*LA.norm(M[:,j])**2;\n",
    "\n",
    "    c=0;\n",
    "    for i in range(m):\n",
    "        mJi = np.count_nonzero(np.isnan(Q[:,i]) == False);\n",
    "        Ji = np.argwhere(np.isnan(Q[:,i]) == False).reshape(mJi);\n",
    "    \n",
    "        c = c + mJi*LA.norm(U[:,i])**2;\n",
    "        \n",
    "    g = a + Lambda*(c+b);\n",
    "    return g"
   ]
  },
  {
   "cell_type": "markdown",
   "id": "1942aebe",
   "metadata": {},
   "source": [
    "##### Testing parameters"
   ]
  },
  {
   "cell_type": "code",
   "execution_count": 25,
   "id": "32e06b8e",
   "metadata": {},
   "outputs": [],
   "source": [
    "# Initialising\n",
    "Lambda=0.01;\n",
    "nits=2;\n",
    "f=2;\n",
    "\n",
    "R = np.array([[5, np.nan, np.nan], [np.nan, 4, np.nan], [4, 5, 1], [np.nan, np.nan, 2], [np.nan, 2, np.nan]]);\n",
    "U=np.array([[1., 2., 3., 4., 5.],[ 1., 2., 3., 4., 5.]]);\n",
    "M=np.ones(f*3).reshape((f,3))\n",
    "\n",
    "\n",
    "for i in range(nits):\n",
    "    [U, M] = myALS(R,U,M,Lambda)\n",
    "    R_pred = np.matmul(U.T, M)"
   ]
  },
  {
   "cell_type": "code",
   "execution_count": 26,
   "id": "de0a0927",
   "metadata": {},
   "outputs": [
    {
     "data": {
      "text/plain": [
       "array([[ 4.05689684,  0.78550265,  0.52757942],\n",
       "       [ 8.11379368,  1.57100529,  1.05515883],\n",
       "       [ 5.63671949,  1.09136528,  0.73302336],\n",
       "       [16.22758736,  3.14201059,  2.11031767],\n",
       "       [20.2844842 ,  3.92751324,  2.63789708]])"
      ]
     },
     "execution_count": 26,
     "metadata": {},
     "output_type": "execute_result"
    }
   ],
   "source": [
    "R_pred"
   ]
  },
  {
   "cell_type": "code",
   "execution_count": null,
   "id": "88501f10",
   "metadata": {},
   "outputs": [],
   "source": []
  }
 ],
 "metadata": {
  "kernelspec": {
   "display_name": "Python 3 (ipykernel)",
   "language": "python",
   "name": "python3"
  },
  "language_info": {
   "codemirror_mode": {
    "name": "ipython",
    "version": 3
   },
   "file_extension": ".py",
   "mimetype": "text/x-python",
   "name": "python",
   "nbconvert_exporter": "python",
   "pygments_lexer": "ipython3",
   "version": "3.10.4"
  }
 },
 "nbformat": 4,
 "nbformat_minor": 5
}
