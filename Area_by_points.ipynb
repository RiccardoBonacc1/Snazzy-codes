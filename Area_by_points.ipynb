{
 "cells": [
  {
   "cell_type": "code",
   "execution_count": 21,
   "metadata": {},
   "outputs": [],
   "source": [
    "import matplotlib.pyplot as plt\n",
    "import numpy as np"
   ]
  },
  {
   "cell_type": "code",
   "execution_count": 16,
   "metadata": {},
   "outputs": [],
   "source": [
    "%matplotlib qt\n"
   ]
  },
  {
   "cell_type": "markdown",
   "metadata": {},
   "source": [
    "### Toy:"
   ]
  },
  {
   "cell_type": "code",
   "execution_count": 35,
   "metadata": {},
   "outputs": [
    {
     "name": "stdout",
     "output_type": "stream",
     "text": [
      "Pixel distance between selected points: 272.93728309725606 pixels\n",
      "Scale factor: 0.0110 meters per pixel\n"
     ]
    }
   ],
   "source": [
    "# Load your reference image\n",
    "img = plt.imread(\"example.png\")  # Replace with your image path\n",
    "\n",
    "# Create figure\n",
    "fig, ax = plt.subplots(figsize=(10, 8))\n",
    "ax.imshow(img)\n",
    "\n",
    "# Set equal aspect ratio to match the image scale\n",
    "ax.set_aspect('equal')\n",
    "\n",
    "# Prompt user to click on two points for known real-world distance\n",
    "ax.set_title(\"Click two points to define a known distance\")\n",
    "scale_points = plt.ginput(n=2, timeout=0)  # Click two points, press Enter when done\n",
    "scale_points = np.array(scale_points)\n",
    "\n",
    "# Compute pixel distance between the two selected points\n",
    "pixel_distance = np.linalg.norm(scale_points[0] - scale_points[1])\n",
    "\n",
    "# Plot the scale points with a line to visually check\n",
    "ax.plot(scale_points[:, 0], scale_points[:, 1], 'ro-', markersize=8, label=\"Scale Reference\")\n",
    "ax.legend()\n",
    "plt.show()\n",
    "\n",
    "# Print pixel distance between the selected points\n",
    "print(f\"Pixel distance between selected points: {pixel_distance} pixels\")\n",
    "\n",
    "# Now, let's compute the scaling factor using the known real-world distance:\n",
    "real_distance_m = 3  # Example real-world distance in meters\n",
    "scale_factor = real_distance_m / pixel_distance  # meters per pixel\n",
    "\n",
    "print(f\"Scale factor: {scale_factor:.4f} meters per pixel\")"
   ]
  },
  {
   "cell_type": "code",
   "execution_count": 36,
   "metadata": {},
   "outputs": [
    {
     "name": "stdout",
     "output_type": "stream",
     "text": [
      "Selected points: [[109.54387097  14.45290323]\n",
      " [382.79290323  15.51612903]\n",
      " [382.79290323 288.76516129]\n",
      " [109.54387097 286.63870968]]\n"
     ]
    }
   ],
   "source": [
    "# Load an image\n",
    "img = plt.imread(\"example.png\")\n",
    "\n",
    "# Create a figure\n",
    "fig, ax = plt.subplots(figsize=(5, 8))\n",
    "ax.imshow(img)\n",
    "\n",
    "# Set equal aspect ratio to match the image scale\n",
    "ax.set_aspect('equal')\n",
    "\n",
    "ax.set_title(\"Click to select points, press Enter when done\")\n",
    "\n",
    "# Let the user click to select points\n",
    "points = plt.ginput(n=-1, timeout=0)  # Click as many times as needed, press Enter to finish\n",
    "points = np.array(points)  # Convert list to NumPy array\n",
    "\n",
    "# Clear and replot with selected points and guide lines\n",
    "ax.clear()\n",
    "ax.imshow(img)\n",
    "\n",
    "for x, y in points:\n",
    "    ax.axvline(x, color='yellow', linestyle='--', linewidth=1)  # Vertical line\n",
    "    ax.axhline(y, color='cyan', linestyle='--', linewidth=1)    # Horizontal line\n",
    "    ax.scatter(x, y, color='red', s=50)  # Mark points\n",
    "\n",
    "ax.set_title(\"Selected Points\")\n",
    "plt.show()\n",
    "\n",
    "# Print selected coordinates\n",
    "print(\"Selected points:\", points)\n"
   ]
  },
  {
   "cell_type": "code",
   "execution_count": 37,
   "metadata": {},
   "outputs": [
    {
     "name": "stdout",
     "output_type": "stream",
     "text": [
      "Area in pixels²: 74519.77091862647\n",
      "Area in square meters: 9.0030 m²\n"
     ]
    }
   ],
   "source": [
    "def polygon_area(points):\n",
    "    \"\"\"\n",
    "    Compute the area of a polygon given its vertices using the Shoelace Theorem.\n",
    "    Parameters:\n",
    "        points (ndarray): Nx2 array of (x, y) coordinates of the polygon vertices.\n",
    "    Returns:\n",
    "        float: The absolute area of the polygon in pixels².\n",
    "    \"\"\"\n",
    "    x = points[:, 0]\n",
    "    y = points[:, 1]\n",
    "    \n",
    "    # Apply Shoelace formula\n",
    "    area_pixels = 0.5 * abs(np.dot(x, np.roll(y, 1)) - np.dot(y, np.roll(x, 1)))\n",
    "    return area_pixels\n",
    "\n",
    "# Compute area in pixels²\n",
    "area_pixels = polygon_area(points)\n",
    "print(f\"Area in pixels²: {area_pixels}\")\n",
    "\n",
    "# Step 3: Convert area from pixels² to meters²\n",
    "area_m2 = (scale_factor ** 2) * area_pixels\n",
    "print(f\"Area in square meters: {area_m2:.4f} m²\")\n",
    "\n"
   ]
  },
  {
   "cell_type": "markdown",
   "metadata": {},
   "source": [
    "### Actual:"
   ]
  },
  {
   "cell_type": "code",
   "execution_count": 50,
   "metadata": {},
   "outputs": [
    {
     "name": "stdout",
     "output_type": "stream",
     "text": [
      "Pixel distance between selected points: 307.713699848382 pixels\n",
      "Scale factor: 0.0675 meters per pixel\n"
     ]
    }
   ],
   "source": [
    "# Load your reference image\n",
    "img = plt.imread(\"polygon.png\")  # Replace with your image path\n",
    "\n",
    "# Create figure\n",
    "fig, ax = plt.subplots(figsize=(10, 8))\n",
    "ax.imshow(img)\n",
    "\n",
    "# Set equal aspect ratio to match the image scale\n",
    "ax.set_aspect('equal')\n",
    "\n",
    "# Prompt user to click on two points for known real-world distance\n",
    "ax.set_title(\"Click two points to define a known distance\")\n",
    "scale_points = plt.ginput(n=2, timeout=0)  # Click two points, press Enter when done\n",
    "scale_points = np.array(scale_points)\n",
    "\n",
    "# Compute pixel distance between the two selected points\n",
    "pixel_distance = np.linalg.norm(scale_points[0] - scale_points[1])\n",
    "\n",
    "# Plot the scale points with a line to visually check\n",
    "ax.plot(scale_points[:, 0], scale_points[:, 1], 'ro-', markersize=8, label=\"Scale Reference\")\n",
    "ax.legend()\n",
    "plt.show()\n",
    "\n",
    "# Print pixel distance between the selected points\n",
    "print(f\"Pixel distance between selected points: {pixel_distance} pixels\")\n",
    "\n",
    "# Now, let's compute the scaling factor using the known real-world distance:\n",
    "real_distance_m = 20.76  # Example real-world distance in meters\n",
    "scale_factor = real_distance_m / pixel_distance  # meters per pixel\n",
    "\n",
    "print(f\"Scale factor: {scale_factor:.4f} meters per pixel\")"
   ]
  },
  {
   "cell_type": "code",
   "execution_count": 51,
   "metadata": {},
   "outputs": [
    {
     "name": "stdout",
     "output_type": "stream",
     "text": [
      "Selected points: [[426.84090909 566.13636364]\n",
      " [121.56818182 531.63636364]\n",
      " [466.56818182  74.77272727]\n",
      " [510.47727273  68.5       ]\n",
      " [501.06818182 107.18181818]\n",
      " [490.61363636 201.27272727]\n",
      " [462.38636364 275.5       ]\n",
      " [448.79545455 387.36363636]]\n"
     ]
    }
   ],
   "source": [
    "# Load an image\n",
    "img = plt.imread(\"polygon.png\")\n",
    "\n",
    "# Create a figure\n",
    "fig, ax = plt.subplots(figsize=(10, 8))\n",
    "ax.imshow(img)\n",
    "\n",
    "# Set equal aspect ratio to match the image scale\n",
    "ax.set_aspect('equal')\n",
    "\n",
    "ax.set_title(\"Click to select points, press Enter when done\")\n",
    "\n",
    "# Let the user click to select points\n",
    "points = plt.ginput(n=-1, timeout=0)  # Click as many times as needed, press Enter to finish\n",
    "points = np.array(points)  # Convert list to NumPy array\n",
    "\n",
    "# Clear and replot with selected points and guide lines\n",
    "ax.clear()\n",
    "ax.imshow(img)\n",
    "\n",
    "for x, y in points:\n",
    "    ax.axvline(x, color='yellow', linestyle='--', linewidth=1)  # Vertical line\n",
    "    ax.axhline(y, color='cyan', linestyle='--', linewidth=1)    # Horizontal line\n",
    "    ax.scatter(x, y, color='red', s=50)  # Mark points\n",
    "\n",
    "ax.set_title(\"Selected Points\")\n",
    "plt.show()\n",
    "\n",
    "# Print selected coordinates\n",
    "print(\"Selected points:\", points)\n"
   ]
  },
  {
   "cell_type": "code",
   "execution_count": 52,
   "metadata": {},
   "outputs": [
    {
     "name": "stdout",
     "output_type": "stream",
     "text": [
      "Area in pixels²: 83948.1466942149\n",
      "Area in square meters: 382.0957 m²\n"
     ]
    }
   ],
   "source": [
    "def polygon_area(points):\n",
    "    \"\"\"\n",
    "    Compute the area of a polygon given its vertices using the Shoelace Theorem.\n",
    "    Parameters:\n",
    "        points (ndarray): Nx2 array of (x, y) coordinates of the polygon vertices.\n",
    "    Returns:\n",
    "        float: The absolute area of the polygon in pixels².\n",
    "    \"\"\"\n",
    "    x = points[:, 0]\n",
    "    y = points[:, 1]\n",
    "    \n",
    "    # Apply Shoelace formula\n",
    "    area_pixels = 0.5 * abs(np.dot(x, np.roll(y, 1)) - np.dot(y, np.roll(x, 1)))\n",
    "    return area_pixels\n",
    "\n",
    "# Compute area in pixels²\n",
    "area_pixels = polygon_area(points)\n",
    "print(f\"Area in pixels²: {area_pixels}\")\n",
    "\n",
    "# Step 3: Convert area from pixels² to meters²\n",
    "area_m2 = (scale_factor ** 2) * area_pixels\n",
    "print(f\"Area in square meters: {area_m2:.4f} m²\")\n",
    "\n"
   ]
  },
  {
   "cell_type": "code",
   "execution_count": null,
   "metadata": {},
   "outputs": [],
   "source": []
  }
 ],
 "metadata": {
  "kernelspec": {
   "display_name": "env",
   "language": "python",
   "name": "python3"
  },
  "language_info": {
   "codemirror_mode": {
    "name": "ipython",
    "version": 3
   },
   "file_extension": ".py",
   "mimetype": "text/x-python",
   "name": "python",
   "nbconvert_exporter": "python",
   "pygments_lexer": "ipython3",
   "version": "3.12.3"
  }
 },
 "nbformat": 4,
 "nbformat_minor": 2
}
